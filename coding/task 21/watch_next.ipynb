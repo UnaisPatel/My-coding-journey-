{
 "cells": [
  {
   "cell_type": "code",
   "execution_count": 1,
   "id": "0aab9d8b",
   "metadata": {},
   "outputs": [
    {
     "name": "stdout",
     "output_type": "stream",
     "text": [
      "(0.8966609749012474, 'Movie C :A darkness swirls at the center of a world-renowned dance company, one that will engulf the artistic director, an ambitious young dancer, and a grieving psychotherapist. Some will succumb to the nightmare. Others will finally wake up.\\n')\n",
      "(0.8930722958485305, \"Movie F :In the last moments of World War II, a young German soldier fighting for survival finds a Nazi captain's uniform. Impersonating an officer, the man quickly takes on the monstrous identity of the perpetrators he is trying to escape from.\\n\")\n",
      "(0.8778804190334576, 'Movie G :The world at an end, a dying mother sends her young son on a quest to find the place that grants wishes.\\n')\n"
     ]
    }
   ],
   "source": [
    "# This program gives reads from a text file and gives the user the most likely movie they will watch after planet hulk\n",
    "# i had to use jupyter notebook for this because visual studio code would not work and even my mentor could not do anything\n",
    "\n",
    "import spacy\n",
    "\n",
    "nlp = spacy.load('en_core_web_md')\n",
    "\n",
    "# the movie the user has watched\n",
    "planet_hulk = \"When the Hulk becomes too dangerous for the Earth, the illuminati trick Hulk in to a shuttle and launch him in to space to a planet where the Hulk can live in peace. Unfortunately, Hulk lands on the planet Sakaar where he is sold in to slavery and trained as a gladiator.\"\n",
    "\n",
    "# opening a file to read\n",
    "with open('movies.txt', 'r') as file:\n",
    "    movie_data = file.readlines()\n",
    "\n",
    "\n",
    "similarity_scores = []   # creating an empty list to store similarity scores\n",
    "for doc in nlp.pipe(movie_data):        # using .pipe function \n",
    "    similarity_score = nlp(planet_hulk).similarity(doc)     # using .similarity to find the similarity with planet_hulk and other movies\n",
    "    similarity_scores.append(similarity_score)    # adding to the similarity scores list\n",
    "\n",
    "# sorting the movies by similarity to planet_hulk from the most similar to least \n",
    "sorted_recommendations = sorted(zip(similarity_scores, movie_data), reverse=True)[:3]\n",
    "\n",
    "# print the top 3 reccomendations\n",
    "num_recommendations = 3\n",
    "for recommendation in sorted_recommendations[:num_recommendations]:\n",
    "    print(recommendation)\n"
   ]
  },
  {
   "cell_type": "code",
   "execution_count": 2,
   "id": "99293839",
   "metadata": {},
   "outputs": [],
   "source": []
  }
 ],
 "metadata": {
  "kernelspec": {
   "display_name": "Python 3 (ipykernel)",
   "language": "python",
   "name": "python3"
  },
  "language_info": {
   "codemirror_mode": {
    "name": "ipython",
    "version": 3
   },
   "file_extension": ".py",
   "mimetype": "text/x-python",
   "name": "python",
   "nbconvert_exporter": "python",
   "pygments_lexer": "ipython3",
   "version": "3.11.3"
  }
 },
 "nbformat": 4,
 "nbformat_minor": 5
}
